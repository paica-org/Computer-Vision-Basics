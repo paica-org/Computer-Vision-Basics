{
  "nbformat": 4,
  "nbformat_minor": 0,
  "metadata": {
    "colab": {
      "name": "deep learning for computer vision.ipynb",
      "provenance": [],
      "collapsed_sections": []
    },
    "kernelspec": {
      "name": "python3",
      "display_name": "Python 3"
    }
  },
  "cells": [
    {
      "cell_type": "code",
      "metadata": {
        "id": "pWvZ6gZ77g57"
      },
      "source": [
        "#weights initialization\n",
        "w1=0.1\n",
        "w2=0.1\n",
        "w0=0.1\n",
        "# with and weight features\n",
        "x=[[0.15,0.4],\n",
        "   [0.3,0.7],\n",
        "   [0.7,0.9],\n",
        "   [0.2,0.3], \n",
        "   [0.3,0.2],\n",
        "   [0.2,\t0.2],\n",
        "   [0.3,\t0.3],\n",
        "   [0.2,\t0.6],\n",
        "   [0.2,\t0.7],\n",
        "   [0.4,\t0.7]]\n",
        "# labels -1 sardine, +1 mackerel             \n",
        "y=[-1,1,1,-1,-1,-1,-1,1,1,1]\n",
        "\n",
        "\n"
      ],
      "execution_count": 33,
      "outputs": []
    },
    {
      "cell_type": "code",
      "metadata": {
        "id": "2JdA66ks_EhJ"
      },
      "source": [
        "#mackerel features\n",
        "x=[[0.15,0.4],[0.2,0.3], [0.3,0.2],\n",
        "[0.2,\t0.2],\n",
        "[0.3,\t0.3]]\n",
        "#sardine features\n",
        "t=[[0.3,0.7],[0.7,0.9],\n",
        "\n",
        "[0.2,\t0.6],\n",
        "[0.2,\t0.7],\n",
        "[0.4,\t0.7]]"
      ],
      "execution_count": null,
      "outputs": []
    },
    {
      "cell_type": "code",
      "metadata": {
        "id": "Yp3U37-a9Edu"
      },
      "source": [
        "import numpy as np\n",
        "xx=np.array(x)\n",
        "tt=np.array(t)"
      ],
      "execution_count": null,
      "outputs": []
    },
    {
      "cell_type": "code",
      "metadata": {
        "id": "RA-54iFY83nK",
        "outputId": "607886b6-94fb-484a-846d-f2ca7893b682",
        "colab": {
          "base_uri": "https://localhost:8080/",
          "height": 269
        }
      },
      "source": [
        "# plot showing mackerel fishes in blue and sardine in red\n",
        "import matplotlib.pyplot as plt\n",
        "plt.axis([0, 1, 0, 1])\n",
        "#plt.plot(xx[0:10,0],xx[0:10,1],'ro')\n",
        "plt.plot(xx[0:5,0], xx[0:5,1], 'ro')\n",
        "plt.plot(tt[0:5,0], tt[0:5,1], 'bs')\n",
        "plt.show()"
      ],
      "execution_count": null,
      "outputs": [
        {
          "output_type": "display_data",
          "data": {
            "image/png": "[encoded data removed]",
            "text/plain": [
              "<Figure size 432x288 with 1 Axes>"
            ]
          },
          "metadata": {
            "tags": [],
            "needs_background": "light"
          }
        }
      ]
    },
    {
      "cell_type": "code",
      "metadata": {
        "id": "CNxC77ckHKTX"
      },
      "source": [
        "# training\n",
        "err=np.zeros(1000)\n",
        "for i in range(1000):\n",
        "  dw0=0\n",
        "  dw1=0\n",
        "  dw2=0\n",
        "  for j in range(4):\n",
        "    O=w1*x[j][0] + w2*x[j][1] + w0\n",
        "    t=y[j]\n",
        "    # gradient descent based weight updation rule\n",
        "    dw1=dw1+0.05*(t-O)*x[j][0]\n",
        "    dw2=dw2+0.05*(t-O)*x[j][1]\n",
        "    dw0=dw0+0.05*(t-O)\n",
        "\n",
        "  w1=w1+dw1\n",
        "  w2=w2+dw2\n",
        "  w0=w0+dw0\n",
        "  err[i]=(t-O)*(t-O)\n"
      ],
      "execution_count": 34,
      "outputs": []
    },
    {
      "cell_type": "code",
      "metadata": {
        "id": "lZfqdvQSSVGO",
        "outputId": "76084c5f-350b-40e4-db5d-64ce3b4aa61b",
        "colab": {
          "base_uri": "https://localhost:8080/",
          "height": 51
        }
      },
      "source": [
        "err"
      ],
      "execution_count": 24,
      "outputs": [
        {
          "output_type": "execute_result",
          "data": {
            "text/plain": [
              "array([1.3225    , 1.2579473 , 1.20557518, ..., 0.06514632, 0.06514738,\n",
              "       0.06514845])"
            ]
          },
          "metadata": {
            "tags": []
          },
          "execution_count": 24
        }
      ]
    },
    {
      "cell_type": "code",
      "metadata": {
        "id": "tuFo5iUuSJbQ",
        "outputId": "3b9bbb82-c8c3-4f3f-eb81-f861358b8ea6",
        "colab": {
          "base_uri": "https://localhost:8080/",
          "height": 269
        }
      },
      "source": [
        "import matplotlib.pyplot as plt\n",
        "plt.axis([0, 1000, 0, 2])\n",
        "#plt.plot(xx[0:10,0],xx[0:10,1],'ro')\n",
        "plt.plot(err)\n",
        "\n",
        "plt.show()"
      ],
      "execution_count": 36,
      "outputs": [
        {
          "output_type": "display_data",
          "data": {
            "image/png": "[encoded data removed]",
            "text/plain": [
              "<Figure size 432x288 with 1 Axes>"
            ]
          },
          "metadata": {
            "tags": [],
            "needs_background": "light"
          }
        }
      ]
    },
    {
      "cell_type": "markdown",
      "metadata": {
        "id": "UrFA6JDDCKpp"
      },
      "source": [
        "#weights learned"
      ]
    },
    {
      "cell_type": "code",
      "metadata": {
        "id": "umanhV55GJu0",
        "outputId": "c76c8833-a0f9-43cc-916a-9493eb355884",
        "colab": {
          "base_uri": "https://localhost:8080/",
          "height": 34
        }
      },
      "source": [
        "w1"
      ],
      "execution_count": 26,
      "outputs": [
        {
          "output_type": "execute_result",
          "data": {
            "text/plain": [
              "-1.9831082785642227"
            ]
          },
          "metadata": {
            "tags": []
          },
          "execution_count": 26
        }
      ]
    },
    {
      "cell_type": "code",
      "metadata": {
        "id": "jq__vRFMGyDC",
        "outputId": "8c7687ec-e590-41f9-92bb-b73049f9bf37",
        "colab": {
          "base_uri": "https://localhost:8080/",
          "height": 34
        }
      },
      "source": [
        "w2"
      ],
      "execution_count": 27,
      "outputs": [
        {
          "output_type": "execute_result",
          "data": {
            "text/plain": [
              "5.556139793167576"
            ]
          },
          "metadata": {
            "tags": []
          },
          "execution_count": 27
        }
      ]
    },
    {
      "cell_type": "code",
      "metadata": {
        "id": "h1FpVsQyGzNM",
        "outputId": "9788200e-1573-465b-ad6b-8c712ceed2e6",
        "colab": {
          "base_uri": "https://localhost:8080/",
          "height": 34
        }
      },
      "source": [
        "w0"
      ],
      "execution_count": 28,
      "outputs": [
        {
          "output_type": "execute_result",
          "data": {
            "text/plain": [
              "-2.5254643077103855"
            ]
          },
          "metadata": {
            "tags": []
          },
          "execution_count": 28
        }
      ]
    },
    {
      "cell_type": "code",
      "metadata": {
        "id": "3_EWc5uXL9PX",
        "outputId": "7adf5bb2-a872-464b-a5cc-f9792169fb83",
        "colab": {
          "base_uri": "https://localhost:8080/",
          "height": 34
        }
      },
      "source": [
        "O=w1*0.7 + w2*0.9 + w0\n",
        "O"
      ],
      "execution_count": null,
      "outputs": [
        {
          "output_type": "execute_result",
          "data": {
            "text/plain": [
              "1.0857191514738735"
            ]
          },
          "metadata": {
            "tags": []
          },
          "execution_count": 9
        }
      ]
    },
    {
      "cell_type": "code",
      "metadata": {
        "id": "135Ae6OSCiZG"
      },
      "source": [
        "# results on testing dataset\n",
        "import numpy as np\n",
        "res=np.zeros(6)\n",
        "for j in range(4,10):\n",
        "  O=w1*x[j][0] + w2*x[j][1] + w0\n",
        "  res[j-4]=O\n",
        "\n"
      ],
      "execution_count": 10,
      "outputs": []
    },
    {
      "cell_type": "code",
      "metadata": {
        "id": "7N1RE19QDVY2",
        "outputId": "5cb06e95-e96f-47f1-f5c1-7500819face0",
        "colab": {
          "base_uri": "https://localhost:8080/",
          "height": 51
        }
      },
      "source": [
        "res"
      ],
      "execution_count": 11,
      "outputs": [
        {
          "output_type": "execute_result",
          "data": {
            "text/plain": [
              "array([-2.01426446, -1.81427148, -1.45712795,  0.41427455,  0.97141106,\n",
              "        0.57142509])"
            ]
          },
          "metadata": {
            "tags": []
          },
          "execution_count": 11
        }
      ]
    }
  ]
}