{
  "nbformat": 4,
  "nbformat_minor": 0,
  "metadata": {
    "colab": {
      "name": "deep learning for CV part2.ipynb",
      "provenance": [],
      "collapsed_sections": []
    },
    "kernelspec": {
      "name": "python3",
      "display_name": "Python 3"
    }
  },
  "cells": [
    {
      "cell_type": "code",
      "metadata": {
        "id": "-3gPHspgncLY",
        "colab_type": "code",
        "colab": {}
      },
      "source": [
        ""
      ],
      "execution_count": null,
      "outputs": []
    },
    {
      "cell_type": "code",
      "metadata": {
        "id": "VBRpIae23wqD",
        "colab_type": "code",
        "colab": {}
      },
      "source": [
        "from keras.models import Sequential\n",
        "from keras.layers.convolutional import Conv2D\n",
        "from keras.layers.convolutional import MaxPooling2D\n",
        "from keras.layers.core import Activation\n",
        "from keras.layers.core import Flatten\n",
        "from keras.layers.core import Dense\n",
        "from keras import backend as K\n",
        "class LeNet:\n",
        "  @staticmethod\n",
        "  def build(numChannels, imgRows, imgCols, numClasses,activation=\"relu\", weightsPath=None):\n",
        "\t\t# initialize the model\n",
        "    model = Sequential()\n",
        "    inputShape = (imgRows, imgCols, numChannels)\n",
        "\t\t# if we are using \"channels first\", update the input shape\n",
        "    if K.image_data_format() == \"channels_first\":\n",
        "      inputShape = (numChannels, imgRows, imgCols)\n",
        "    \"\"\"model.add(Conv2D(20, 5, padding=\"same\",input_shape=inputShape))\n",
        "    model.add(Activation(activation))\n",
        "    model.add(MaxPooling2D(pool_size=(2, 2), strides=(2, 2)))\n",
        "\n",
        "    model.add(Conv2D(50, 5, padding=\"same\"))\n",
        "    model.add(Activation(activation))\n",
        "    model.add(MaxPooling2D(pool_size=(2, 2), strides=(2, 2)))\n",
        "\n",
        "    model.add(Flatten())\n",
        "    model.add(Dense(500))\n",
        "    model.add(Activation(activation))\"\"\"\n",
        "    model.add(Flatten())\n",
        "    model.add(Dense(numClasses))\n",
        "    model.add(Activation(\"softmax\"))\n",
        "\n",
        "    if weightsPath is not None:\n",
        "      model.load_weights(weightsPath)\n",
        "    return model"
      ],
      "execution_count": null,
      "outputs": []
    },
    {
      "cell_type": "code",
      "metadata": {
        "id": "FmfjKLNTCc5H",
        "colab_type": "code",
        "colab": {
          "base_uri": "https://localhost:8080/",
          "height": 51
        },
        "outputId": "a34171ae-4172-4fb5-c1b5-0596231c5d48"
      },
      "source": [
        "from sklearn.model_selection import train_test_split\n",
        "from keras.datasets import mnist\n",
        "from keras.optimizers import SGD\n",
        "from keras.utils import np_utils\n",
        "from keras import backend as K\n",
        "import numpy as np\n",
        "import argparse\n",
        "import cv2\n",
        "\n",
        "\n",
        "\n",
        "\n",
        "\n",
        "\n",
        "print(\"[INFO] downloading MNIST...\")\n",
        "((trainData, trainLabels), (testData, testLabels)) = mnist.load_data()\n",
        "\n",
        "\n",
        "if K.image_data_format() == \"channels_first\":\n",
        "\ttrainData = trainData.reshape((trainData.shape[0], 1, 28, 28))\n",
        "\ttestData = testData.reshape((testData.shape[0], 1, 28, 28))\n",
        "# otherwise, we are using \"channels last\" ordering, so the design\n",
        "# matrix shape should be: num_samples x rows x columns x depth\n",
        "else:\n",
        "\ttrainData = trainData.reshape((trainData.shape[0], 28, 28, 1))\n",
        "\ttestData = testData.reshape((testData.shape[0], 28, 28, 1))\n",
        "# scale data to the range of [0, 1]\n",
        "trainData = trainData.astype(\"float32\") / 255.0\n",
        "testData = testData.astype(\"float32\") / 255.0\n",
        "\n",
        "\n",
        "# transform the training and testing labels into vectors in the\n",
        "# range [0, classes] -- this generates a vector for each label,\n",
        "# where the index of the label is set to `1` and all other entries\n",
        "# to `0`; in the case of MNIST, there are 10 class labels\n",
        "trainLabels = np_utils.to_categorical(trainLabels, 10)\n",
        "testLabels = np_utils.to_categorical(testLabels, 10)\n",
        "# initialize the optimizer and model\n",
        "print(\"[INFO] compiling model...\")\n",
        "opt = SGD(lr=0.01)\n",
        "model = LeNet.build(numChannels=1, imgRows=28, imgCols=28,\n",
        "\tnumClasses=10)\n",
        "model.compile(loss=\"categorical_crossentropy\", optimizer=opt,\n",
        "\tmetrics=[\"accuracy\"])"
      ],
      "execution_count": null,
      "outputs": [
        {
          "output_type": "stream",
          "text": [
            "[INFO] downloading MNIST...\n",
            "[INFO] compiling model...\n"
          ],
          "name": "stdout"
        }
      ]
    },
    {
      "cell_type": "code",
      "metadata": {
        "id": "pyYL2emVGMm6",
        "colab_type": "code",
        "colab": {}
      },
      "source": [
        "model.fit(trainData, trainLabels, batch_size=128, epochs=50,\n",
        "\t\tverbose=1)\n",
        "\t# show the accuracy on the testing set\n",
        "print(\"[INFO] evaluating...\")\n",
        "(loss, accuracy) = model.evaluate(testData, testLabels,\n",
        "\t\tbatch_size=128, verbose=1)\n",
        "print(\"[INFO] accuracy: {:.2f}%\".format(accuracy * 100))"
      ],
      "execution_count": null,
      "outputs": []
    },
    {
      "cell_type": "code",
      "metadata": {
        "id": "dP6Swl5Wfa5R",
        "colab_type": "code",
        "colab": {}
      },
      "source": [
        "filters, biases = model.layers[1].get_weights()\n"
      ],
      "execution_count": null,
      "outputs": []
    },
    {
      "cell_type": "code",
      "metadata": {
        "id": "_ovSp2mvWTLJ",
        "colab_type": "code",
        "colab": {
          "base_uri": "https://localhost:8080/",
          "height": 282
        },
        "outputId": "7895aed2-eb27-4da0-a4be-d3cdf7750f1f"
      },
      "source": [
        "import matplotlib.pyplot as plt\n",
        "plt.imshow(np.reshape(filters[:,5],(28,28),'C'))"
      ],
      "execution_count": null,
      "outputs": [
        {
          "output_type": "execute_result",
          "data": {
            "text/plain": [
              "<matplotlib.image.AxesImage at 0x7fabea10e0b8>"
            ]
          },
          "metadata": {
            "tags": []
          },
          "execution_count": 14
        },
        {
          "output_type": "display_data",
          "data": {
            "image/png": "[encoded data removed]",
            "text/plain": [
              "<Figure size 432x288 with 1 Axes>"
            ]
          },
          "metadata": {
            "tags": [],
            "needs_background": "light"
          }
        }
      ]
    },
    {
      "cell_type": "code",
      "metadata": {
        "colab_type": "code",
        "id": "QEPybn4YWvTp",
        "colab": {
          "base_uri": "https://localhost:8080/",
          "height": 282
        },
        "outputId": "f6db3c89-53a0-4507-8cc1-68387e42e68d"
      },
      "source": [
        "kk=np.reshape(filters[:,6],(28,28),'C')\n",
        "kk[kk<0.1]=0\n",
        "kk[kk!=0]=1\n",
        "plt.imshow(kk)"
      ],
      "execution_count": null,
      "outputs": [
        {
          "output_type": "execute_result",
          "data": {
            "text/plain": [
              "<matplotlib.image.AxesImage at 0x7fabe984e320>"
            ]
          },
          "metadata": {
            "tags": []
          },
          "execution_count": 16
        },
        {
          "output_type": "display_data",
          "data": {
            "image/png": "[encoded data removed]",
            "text/plain": [
              "<Figure size 432x288 with 1 Axes>"
            ]
          },
          "metadata": {
            "tags": [],
            "needs_background": "light"
          }
        }
      ]
    },
    {
      "cell_type": "code",
      "metadata": {
        "id": "wf-YJRAdg8sA",
        "colab_type": "code",
        "colab": {
          "base_uri": "https://localhost:8080/",
          "height": 282
        },
        "outputId": "4933847a-28a5-4ee7-e0d7-16382e9c5701"
      },
      "source": [
        "import matplotlib.pyplot as plt\n",
        "\n",
        "plt.imshow(trainData[0,:])"
      ],
      "execution_count": null,
      "outputs": [
        {
          "output_type": "execute_result",
          "data": {
            "text/plain": [
              "<matplotlib.image.AxesImage at 0x7fac04125d68>"
            ]
          },
          "metadata": {
            "tags": []
          },
          "execution_count": 8
        },
        {
          "output_type": "display_data",
          "data": {
            "image/png": "[encoded data removed]",
            "text/plain": [
              "<Figure size 432x288 with 1 Axes>"
            ]
          },
          "metadata": {
            "tags": [],
            "needs_background": "light"
          }
        }
      ]
    }
  ]
}